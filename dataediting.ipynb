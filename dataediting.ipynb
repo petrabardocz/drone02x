{
 "cells": [
  {
   "cell_type": "code",
   "execution_count": 36,
   "metadata": {},
   "outputs": [],
   "source": [
    "import requests\n",
    "import pandas as pd\n",
    "import os"
   ]
  },
  {
   "cell_type": "code",
   "execution_count": 45,
   "metadata": {},
   "outputs": [],
   "source": [
    "current_directory = os.getcwd()\n",
    "data_fp = os.path.join(current_directory, \"data\")"
   ]
  },
  {
   "cell_type": "code",
   "execution_count": 47,
   "metadata": {},
   "outputs": [
    {
     "data": {
      "text/html": [
       "<div>\n",
       "<style scoped>\n",
       "    .dataframe tbody tr th:only-of-type {\n",
       "        vertical-align: middle;\n",
       "    }\n",
       "\n",
       "    .dataframe tbody tr th {\n",
       "        vertical-align: top;\n",
       "    }\n",
       "\n",
       "    .dataframe thead th {\n",
       "        text-align: right;\n",
       "    }\n",
       "</style>\n",
       "<table border=\"1\" class=\"dataframe\">\n",
       "  <thead>\n",
       "    <tr style=\"text-align: right;\">\n",
       "      <th></th>\n",
       "      <th>x1</th>\n",
       "      <th>x2</th>\n",
       "      <th>y_oakface</th>\n",
       "    </tr>\n",
       "  </thead>\n",
       "  <tbody>\n",
       "    <tr>\n",
       "      <th>0</th>\n",
       "      <td>14.5588</td>\n",
       "      <td>686.869</td>\n",
       "      <td>0.973462</td>\n",
       "    </tr>\n",
       "    <tr>\n",
       "      <th>1</th>\n",
       "      <td>14.4775</td>\n",
       "      <td>690.728</td>\n",
       "      <td>0.974855</td>\n",
       "    </tr>\n",
       "    <tr>\n",
       "      <th>2</th>\n",
       "      <td>14.3970</td>\n",
       "      <td>694.587</td>\n",
       "      <td>0.975169</td>\n",
       "    </tr>\n",
       "    <tr>\n",
       "      <th>3</th>\n",
       "      <td>14.3175</td>\n",
       "      <td>698.445</td>\n",
       "      <td>0.974131</td>\n",
       "    </tr>\n",
       "    <tr>\n",
       "      <th>4</th>\n",
       "      <td>14.2388</td>\n",
       "      <td>702.304</td>\n",
       "      <td>0.975639</td>\n",
       "    </tr>\n",
       "  </tbody>\n",
       "</table>\n",
       "</div>"
      ],
      "text/plain": [
       "        x1       x2  y_oakface\n",
       "0  14.5588  686.869   0.973462\n",
       "1  14.4775  690.728   0.974855\n",
       "2  14.3970  694.587   0.975169\n",
       "3  14.3175  698.445   0.974131\n",
       "4  14.2388  702.304   0.975639"
      ]
     },
     "execution_count": 47,
     "metadata": {},
     "output_type": "execute_result"
    }
   ],
   "source": [
    "combined_df = pd.read_csv(\"data/oakface.csv\")\n",
    "combined_df.head()"
   ]
  },
  {
   "cell_type": "code",
   "execution_count": 48,
   "metadata": {},
   "outputs": [],
   "source": [
    "for filename in os.listdir(data_fp):\n",
    "    if filename != \"oakface.csv\":\n",
    "        fp = os.path.join(data_fp, filename)\n",
    "        df = pd.read_csv(fp)\n",
    "        ycol = df.iloc[:,2]\n",
    "        combined_df = pd.concat([combined_df, ycol], axis = 1)\n",
    "\n",
    "combined_df_flip = combined_df.iloc[::-1]"
   ]
  },
  {
   "cell_type": "code",
   "execution_count": 49,
   "metadata": {},
   "outputs": [
    {
     "data": {
      "text/html": [
       "<div>\n",
       "<style scoped>\n",
       "    .dataframe tbody tr th:only-of-type {\n",
       "        vertical-align: middle;\n",
       "    }\n",
       "\n",
       "    .dataframe tbody tr th {\n",
       "        vertical-align: top;\n",
       "    }\n",
       "\n",
       "    .dataframe thead th {\n",
       "        text-align: right;\n",
       "    }\n",
       "</style>\n",
       "<table border=\"1\" class=\"dataframe\">\n",
       "  <thead>\n",
       "    <tr style=\"text-align: right;\">\n",
       "      <th></th>\n",
       "      <th>x1</th>\n",
       "      <th>x2</th>\n",
       "      <th>y_oakface</th>\n",
       "      <th>y_clybrkcm</th>\n",
       "      <th>y_distd_wn</th>\n",
       "      <th>y_sndpgaz1</th>\n",
       "    </tr>\n",
       "  </thead>\n",
       "  <tbody>\n",
       "    <tr>\n",
       "      <th>599</th>\n",
       "      <td>3.33522</td>\n",
       "      <td>2998.30</td>\n",
       "      <td>0.972906</td>\n",
       "      <td>0.616606</td>\n",
       "      <td>NaN</td>\n",
       "      <td>0.840829</td>\n",
       "    </tr>\n",
       "    <tr>\n",
       "      <th>598</th>\n",
       "      <td>3.33952</td>\n",
       "      <td>2994.44</td>\n",
       "      <td>0.969277</td>\n",
       "      <td>0.624745</td>\n",
       "      <td>NaN</td>\n",
       "      <td>0.840267</td>\n",
       "    </tr>\n",
       "    <tr>\n",
       "      <th>597</th>\n",
       "      <td>3.34383</td>\n",
       "      <td>2990.58</td>\n",
       "      <td>0.973086</td>\n",
       "      <td>0.628873</td>\n",
       "      <td>NaN</td>\n",
       "      <td>0.845934</td>\n",
       "    </tr>\n",
       "    <tr>\n",
       "      <th>596</th>\n",
       "      <td>3.34815</td>\n",
       "      <td>2986.72</td>\n",
       "      <td>0.972659</td>\n",
       "      <td>0.627793</td>\n",
       "      <td>NaN</td>\n",
       "      <td>0.840304</td>\n",
       "    </tr>\n",
       "    <tr>\n",
       "      <th>595</th>\n",
       "      <td>3.35248</td>\n",
       "      <td>2982.86</td>\n",
       "      <td>0.972688</td>\n",
       "      <td>0.624667</td>\n",
       "      <td>NaN</td>\n",
       "      <td>0.837362</td>\n",
       "    </tr>\n",
       "  </tbody>\n",
       "</table>\n",
       "</div>"
      ],
      "text/plain": [
       "          x1       x2  y_oakface  y_clybrkcm  y_distd_wn  y_sndpgaz1\n",
       "599  3.33522  2998.30   0.972906    0.616606         NaN    0.840829\n",
       "598  3.33952  2994.44   0.969277    0.624745         NaN    0.840267\n",
       "597  3.34383  2990.58   0.973086    0.628873         NaN    0.845934\n",
       "596  3.34815  2986.72   0.972659    0.627793         NaN    0.840304\n",
       "595  3.35248  2982.86   0.972688    0.624667         NaN    0.837362"
      ]
     },
     "execution_count": 49,
     "metadata": {},
     "output_type": "execute_result"
    }
   ],
   "source": [
    "combined_df_flip.head()"
   ]
  },
  {
   "cell_type": "code",
   "execution_count": 50,
   "metadata": {},
   "outputs": [],
   "source": [
    "combined_df_flip.to_csv(\"data/emisdata.csv\", index = False)\n"
   ]
  },
  {
   "cell_type": "code",
   "execution_count": 51,
   "metadata": {},
   "outputs": [],
   "source": [
    "emisdata = pd.read_csv(\"data/emisdata.csv\", index_col=False)\n",
    "emisdata = emisdata.dropna(axis=0)\n"
   ]
  },
  {
   "cell_type": "code",
   "execution_count": 52,
   "metadata": {},
   "outputs": [],
   "source": [
    "emisdata.to_csv(\"data/emisdata2.csv\", index=False)"
   ]
  }
 ],
 "metadata": {
  "kernelspec": {
   "display_name": ".venv",
   "language": "python",
   "name": "python3"
  },
  "language_info": {
   "codemirror_mode": {
    "name": "ipython",
    "version": 3
   },
   "file_extension": ".py",
   "mimetype": "text/x-python",
   "name": "python",
   "nbconvert_exporter": "python",
   "pygments_lexer": "ipython3",
   "version": "3.12.1"
  }
 },
 "nbformat": 4,
 "nbformat_minor": 2
}
