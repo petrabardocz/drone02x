{
 "cells": [
  {
   "cell_type": "code",
   "execution_count": 22,
   "metadata": {},
   "outputs": [],
   "source": [
    "import requests\n",
    "from bs4 import BeautifulSoup\n",
    "import pandas as pd\n",
    "import os"
   ]
  },
  {
   "cell_type": "code",
   "execution_count": 37,
   "metadata": {},
   "outputs": [],
   "source": [
    "current_directory = os.getcwd()\n",
    "\n",
    "# Join the current directory path with the folder name\n",
    "data_fp = os.path.join(current_directory, \"data\")\n",
    "\n",
    "# Check if the folder already exists\n",
    "if not os.path.exists(data_fp):\n",
    "    # Create the folder if it doesn't exist\n",
    "    os.makedirs(data_fp)"
   ]
  },
  {
   "cell_type": "code",
   "execution_count": 31,
   "metadata": {},
   "outputs": [
    {
     "name": "stdout",
     "output_type": "stream",
     "text": [
      "oakface\n"
     ]
    }
   ],
   "source": [
    "# https://medium.com/@chipk215/web-scraping-a-story-of-preformatted-text-df65486a8f15\n",
    "\n",
    "url = 'https://www.icess.ucsb.edu/modis/EMIS/images/oakface.prn'  # Replace this with the website URL\n",
    "\n",
    "# Get the sample type from the URL\n",
    "base_name = os.path.basename(url)\n",
    "\n",
    "# Remove the file extension\n",
    "sampletype = os.path.splitext(base_name)[0]\n",
    "\n",
    "print(sampletype)\n"
   ]
  },
  {
   "cell_type": "code",
   "execution_count": 26,
   "metadata": {},
   "outputs": [],
   "source": [
    "page_to_scrape = requests.get(url)\n",
    "soup = BeautifulSoup(page_to_scrape.text, \"html.parser\") # Get all the contents of site as bs4 object\n",
    "\n",
    "page_text = soup.text.strip() # Strip just the info and store as text"
   ]
  },
  {
   "cell_type": "code",
   "execution_count": null,
   "metadata": {},
   "outputs": [],
   "source": [
    "# Find the index where the table begins\n",
    "table_start_index = page_text.find('#X(Micrometer)')\n",
    "\n",
    "if table_start_index != -1:\n",
    "    # Extract the table content starting from the table_start_index\n",
    "    table_content = page_text[table_start_index:]\n",
    "\n",
    "    print(table_content)\n",
    "else:\n",
    "    print(\"Table starting from '#X(Micrometer)' not found in the text.\")"
   ]
  },
  {
   "cell_type": "code",
   "execution_count": null,
   "metadata": {},
   "outputs": [],
   "source": [
    "# Split the table content into rows\n",
    "rows = table_content.strip().split('\\n')\n",
    "\n",
    "# Split each row by whitespace and create a list of lists for the data\n",
    "data = [list(map(float, row.split())) for row in rows[1:]]  # Skip the header row\n",
    "\n",
    "# Create a DataFrame\n",
    "columns = rows[0].split()  # Use the header row as column names\n",
    "df = pd.DataFrame(data, columns=columns)\n",
    "\n",
    "print(df)"
   ]
  },
  {
   "cell_type": "code",
   "execution_count": 41,
   "metadata": {},
   "outputs": [],
   "source": [
    "output_fp = os.path.join(data_fp, sampletype + \".csv\")\n",
    "df.to_csv(output_fp, index = False)"
   ]
  }
 ],
 "metadata": {
  "kernelspec": {
   "display_name": "Python 3",
   "language": "python",
   "name": "python3"
  },
  "language_info": {
   "codemirror_mode": {
    "name": "ipython",
    "version": 3
   },
   "file_extension": ".py",
   "mimetype": "text/x-python",
   "name": "python",
   "nbconvert_exporter": "python",
   "pygments_lexer": "ipython3",
   "version": "3.12.1"
  }
 },
 "nbformat": 4,
 "nbformat_minor": 2
}
